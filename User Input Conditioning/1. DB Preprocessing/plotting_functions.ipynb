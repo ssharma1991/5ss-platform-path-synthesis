{
 "cells": [
  {
   "cell_type": "code",
   "execution_count": null,
   "metadata": {
    "ExecuteTime": {
     "end_time": "2020-01-07T11:13:28.362309Z",
     "start_time": "2020-01-07T11:13:27.865637Z"
    }
   },
   "outputs": [],
   "source": [
    "#%matplotlib inline\n",
    "%matplotlib notebook\n",
    "\n",
    "import numpy as np \n",
    "from mpl_toolkits import mplot3d\n",
    "import matplotlib.pyplot as plt\n",
    "from numpy import linalg as LA\n",
    "#plt.style.use('dark_background')\n",
    "\n",
    "\n",
    "def plotPath(Pts, ax, limit, color = 'gray'):\n",
    "    xline=Pts[:,0]\n",
    "    yline=Pts[:,1]\n",
    "    zline=Pts[:,2]\n",
    "    ax.plot3D(xline, yline, zline, color)\n",
    "    ax.auto_scale_xyz([-limit, limit], [-limit, limit], [-limit, limit])\n",
    "    plt.tight_layout()\n",
    "\n",
    "def plotXYZ(center, RotMat, ax):\n",
    "    C=np.vstack((center,center,center))\n",
    "    R=RotMat\n",
    "    r=(1,0,0)\n",
    "    g=(0,1,0)\n",
    "    b=(0,0,1)\n",
    "    ax.quiver(C[:,0], C[:,1], C[:,2], R[:,0], R[:,1], R[:,2],color=(r,g,b,r,r,g,g,b,b))\n",
    "    plt.tight_layout()\n",
    "\n",
    "\n",
    "def visualizePaths(Paths,rows=10,cols=3, axlimit=.5):\n",
    "    path_index=0;\n",
    "    fig = plt.figure(figsize=2*plt.figaspect(rows/cols))\n",
    "    for i in range(rows):\n",
    "        for j in range(cols):\n",
    "            Pts=Paths[path_index]\n",
    "            path_index=path_index+1\n",
    "            ax = fig.add_subplot(rows, cols, path_index, projection='3d')\n",
    "            plotPath(Pts, ax, axlimit)\n",
    "            #plotXYZ(np.zeros((1, 3)), np.identity(3), ax)\n",
    "    plt.tight_layout()\n",
    "    plt.show()\n",
    "\n",
    "def visualizePathsRand(Paths,rows=10,cols=3, axlimit=.5):\n",
    "    path_index=0;\n",
    "    fig = plt.figure(figsize=2*plt.figaspect(rows/cols))\n",
    "    for i in range(rows):\n",
    "        for j in range(cols):\n",
    "            Pts=Paths[np.random.randint(Paths.shape[0])]\n",
    "            path_index=path_index+1\n",
    "            ax = fig.add_subplot(rows, cols, path_index, projection='3d')\n",
    "            plotPath(Pts, ax, axlimit)\n",
    "            #plotXYZ(np.zeros((1, 3)), np.identity(3), ax)\n",
    "    plt.tight_layout()\n",
    "    plt.show()"
   ]
  },
  {
   "cell_type": "code",
   "execution_count": null,
   "metadata": {},
   "outputs": [],
   "source": []
  }
 ],
 "metadata": {
  "kernelspec": {
   "display_name": "Python 3",
   "language": "python",
   "name": "python3"
  },
  "language_info": {
   "codemirror_mode": {
    "name": "ipython",
    "version": 3
   },
   "file_extension": ".py",
   "mimetype": "text/x-python",
   "name": "python",
   "nbconvert_exporter": "python",
   "pygments_lexer": "ipython3",
   "version": "3.7.5"
  }
 },
 "nbformat": 4,
 "nbformat_minor": 2
}
