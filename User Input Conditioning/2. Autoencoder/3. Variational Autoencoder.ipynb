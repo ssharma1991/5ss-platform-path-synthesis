{
 "cells": [
  {
   "cell_type": "code",
   "execution_count": 36,
   "metadata": {
    "ExecuteTime": {
     "end_time": "2020-01-09T21:27:56.765711Z",
     "start_time": "2020-01-09T21:27:56.760699Z"
    }
   },
   "outputs": [],
   "source": [
    "from keras.layers import *\n",
    "from keras.losses import mse\n",
    "from keras.models import Model\n",
    "from IPython.display import SVG\n",
    "from keras.utils.vis_utils import model_to_dot"
   ]
  },
  {
   "cell_type": "markdown",
   "metadata": {
    "colab_type": "text",
    "id": "Oy8OIXiQZFAk"
   },
   "source": [
    "# Setup Google CoLab Environment"
   ]
  },
  {
   "cell_type": "code",
   "execution_count": 9,
   "metadata": {
    "colab": {
     "base_uri": "https://localhost:8080/",
     "height": 51
    },
    "colab_type": "code",
    "executionInfo": {
     "elapsed": 606,
     "status": "ok",
     "timestamp": 1577292956553,
     "user": {
      "displayName": "shashank sharma",
      "photoUrl": "https://lh3.googleusercontent.com/a-/AAuE7mATUpbtK89mScZJjf1KOZ9DZQb6n2fPRNY0O6aN=s64",
      "userId": "10118780377903233543"
     },
     "user_tz": 300
    },
    "id": "WNNdCgMeYxXD",
    "outputId": "ab8e66a1-5ad6-4d8b-8b7e-074fd6362be2"
   },
   "outputs": [
    {
     "name": "stdout",
     "output_type": "stream",
     "text": [
      "Drive already mounted at /content/drive; to attempt to forcibly remount, call drive.mount(\"/content/drive\", force_remount=True).\n",
      "/content/drive/My Drive/Colab Notebooks/2. Autoencoder\n"
     ]
    }
   ],
   "source": [
    "# Import data on Google CoLab\n",
    "from google.colab import drive\n",
    "drive.mount('/content/drive')\n",
    "%cd /content/drive/My\\ Drive/Colab\\ Notebooks/2.\\ Autoencoder"
   ]
  },
  {
   "cell_type": "markdown",
   "metadata": {
    "colab_type": "text",
    "id": "fSlmgUaCYZ5D"
   },
   "source": [
    "# Importing relevant functions and libraries"
   ]
  },
  {
   "cell_type": "code",
   "execution_count": 0,
   "metadata": {
    "colab": {},
    "colab_type": "code",
    "id": "a9NC1Ws1YZ5H"
   },
   "outputs": [],
   "source": [
    "%run \"Reusable_Functions.ipynb\""
   ]
  },
  {
   "cell_type": "markdown",
   "metadata": {
    "colab_type": "text",
    "id": "ukCUlvMQhSoI"
   },
   "source": [
    "# Import Data"
   ]
  },
  {
   "cell_type": "code",
   "execution_count": 12,
   "metadata": {
    "colab": {
     "base_uri": "https://localhost:8080/",
     "height": 51
    },
    "colab_type": "code",
    "executionInfo": {
     "elapsed": 343,
     "status": "ok",
     "timestamp": 1577292973556,
     "user": {
      "displayName": "shashank sharma",
      "photoUrl": "https://lh3.googleusercontent.com/a-/AAuE7mATUpbtK89mScZJjf1KOZ9DZQb6n2fPRNY0O6aN=s64",
      "userId": "10118780377903233543"
     },
     "user_tz": 300
    },
    "id": "9EeMhjSYhSoJ",
    "outputId": "5a31a485-5925-485a-8172-80395bc04cb2"
   },
   "outputs": [
    {
     "name": "stdout",
     "output_type": "stream",
     "text": [
      "(1902, 100, 3)\n",
      "(1902, 11, 3)\n"
     ]
    }
   ],
   "source": [
    "# Import data offline\n",
    "cplr, mech = import_DB()\n",
    "print(cplr.shape)\n",
    "print(mech.shape)"
   ]
  },
  {
   "cell_type": "code",
   "execution_count": 0,
   "metadata": {
    "colab": {},
    "colab_type": "code",
    "id": "Spk-es-kYZ5a"
   },
   "outputs": [],
   "source": [
    "# Renormalize DB from range [-1,1] to range [0,1] \n",
    "n_cplr=cplr/2+.5\n",
    "n_mech=mech/2+.5"
   ]
  },
  {
   "cell_type": "markdown",
   "metadata": {
    "colab_type": "text",
    "id": "qvmIUKmIhSoO"
   },
   "source": [
    "# Splitting the database in Train/Test dataset"
   ]
  },
  {
   "cell_type": "code",
   "execution_count": 14,
   "metadata": {
    "colab": {
     "base_uri": "https://localhost:8080/",
     "height": 51
    },
    "colab_type": "code",
    "executionInfo": {
     "elapsed": 768,
     "status": "ok",
     "timestamp": 1577292978903,
     "user": {
      "displayName": "shashank sharma",
      "photoUrl": "https://lh3.googleusercontent.com/a-/AAuE7mATUpbtK89mScZJjf1KOZ9DZQb6n2fPRNY0O6aN=s64",
      "userId": "10118780377903233543"
     },
     "user_tz": 300
    },
    "id": "7z9UqITChSoP",
    "outputId": "1763a3db-bb16-4df9-e5e5-e6f1c58b84b9"
   },
   "outputs": [
    {
     "name": "stdout",
     "output_type": "stream",
     "text": [
      "(1521, 100, 3)\n",
      "(381, 100, 3)\n"
     ]
    }
   ],
   "source": [
    "x= n_cplr\n",
    "\n",
    "# Split data into training and testing dataset\n",
    "from sklearn.model_selection import train_test_split\n",
    "x_train, x_test, _, _ = train_test_split(x, x, test_size=0.2, random_state=1)\n",
    "\n",
    "print(x_train.shape)\n",
    "print(x_test.shape)"
   ]
  },
  {
   "cell_type": "markdown",
   "metadata": {},
   "source": [
    "# Variational Autoencoder Z=30"
   ]
  },
  {
   "cell_type": "code",
   "execution_count": 40,
   "metadata": {
    "ExecuteTime": {
     "end_time": "2020-01-10T10:49:26.340821Z",
     "start_time": "2020-01-10T10:49:25.099152Z"
    }
   },
   "outputs": [
    {
     "name": "stdout",
     "output_type": "stream",
     "text": [
      "__________________________________________________________________________________________________\n",
      "Layer (type)                    Output Shape         Param #     Connected to                     \n",
      "==================================================================================================\n",
      "input_19 (InputLayer)           (None, 100, 3)       0                                            \n",
      "__________________________________________________________________________________________________\n",
      "flatten_23 (Flatten)            (None, 300)          0           input_19[0][0]                   \n",
      "__________________________________________________________________________________________________\n",
      "dense_160 (Dense)               (None, 150)          45150       flatten_23[0][0]                 \n",
      "__________________________________________________________________________________________________\n",
      "dense_161 (Dense)               (None, 150)          22650       dense_160[0][0]                  \n",
      "__________________________________________________________________________________________________\n",
      "dense_162 (Dense)               (None, 150)          22650       dense_161[0][0]                  \n",
      "__________________________________________________________________________________________________\n",
      "z_mean (Dense)                  (None, 30)           4530        dense_162[0][0]                  \n",
      "__________________________________________________________________________________________________\n",
      "z_log_var (Dense)               (None, 30)           4530        dense_162[0][0]                  \n",
      "__________________________________________________________________________________________________\n",
      "z (Lambda)                      (None, 30)           0           z_mean[0][0]                     \n",
      "                                                                 z_log_var[0][0]                  \n",
      "__________________________________________________________________________________________________\n",
      "dense_163 (Dense)               (None, 150)          4650        z[0][0]                          \n",
      "__________________________________________________________________________________________________\n",
      "dense_164 (Dense)               (None, 150)          22650       dense_163[0][0]                  \n",
      "__________________________________________________________________________________________________\n",
      "dense_165 (Dense)               (None, 150)          22650       dense_164[0][0]                  \n",
      "__________________________________________________________________________________________________\n",
      "dense_166 (Dense)               (None, 300)          45300       dense_165[0][0]                  \n",
      "__________________________________________________________________________________________________\n",
      "reshape_17 (Reshape)            (None, 100, 3)       0           dense_166[0][0]                  \n",
      "==================================================================================================\n",
      "Total params: 194,760\n",
      "Trainable params: 194,760\n",
      "Non-trainable params: 0\n",
      "__________________________________________________________________________________________________\n"
     ]
    },
    {
     "ename": "NameError",
     "evalue": "name 'x_train' is not defined",
     "output_type": "error",
     "traceback": [
      "\u001b[1;31m---------------------------------------------------------------------------\u001b[0m",
      "\u001b[1;31mNameError\u001b[0m                                 Traceback (most recent call last)",
      "\u001b[1;32m<ipython-input-40-0b4235df08d5>\u001b[0m in \u001b[0;36m<module>\u001b[1;34m\u001b[0m\n\u001b[0;32m     45\u001b[0m \u001b[1;31m#AE,E,train_data =AE_analysis(VAE_Z30, 10, x_train, x_test, filename='VAE_Z30')\u001b[0m\u001b[1;33m\u001b[0m\u001b[1;33m\u001b[0m\u001b[1;33m\u001b[0m\u001b[0m\n\u001b[0;32m     46\u001b[0m \u001b[0mvae\u001b[0m\u001b[1;33m,\u001b[0m\u001b[0m_\u001b[0m\u001b[1;33m=\u001b[0m\u001b[0mVAE_Z30\u001b[0m\u001b[1;33m(\u001b[0m\u001b[1;33m)\u001b[0m\u001b[1;33m\u001b[0m\u001b[1;33m\u001b[0m\u001b[0m\n\u001b[1;32m---> 47\u001b[1;33m train_data=vae.fit(x_train, x_train,\n\u001b[0m\u001b[0;32m     48\u001b[0m         \u001b[0mshuffle\u001b[0m\u001b[1;33m=\u001b[0m\u001b[1;32mTrue\u001b[0m\u001b[1;33m,\u001b[0m\u001b[1;33m\u001b[0m\u001b[1;33m\u001b[0m\u001b[0m\n\u001b[0;32m     49\u001b[0m         \u001b[0mepochs\u001b[0m\u001b[1;33m=\u001b[0m\u001b[1;36m500\u001b[0m\u001b[1;33m,\u001b[0m\u001b[1;33m\u001b[0m\u001b[1;33m\u001b[0m\u001b[0m\n",
      "\u001b[1;31mNameError\u001b[0m: name 'x_train' is not defined"
     ]
    }
   ],
   "source": [
    "def sampling(args):\n",
    "    mu, log_var = args\n",
    "    batch_size = K.shape(mu)[0]\n",
    "    z_dim = K.int_shape(mu)[1]\n",
    "    eps = K.random_normal(shape=(batch_size, z_dim), mean=0., stddev=1.0)\n",
    "    return mu + K.exp(log_var/2.) * eps\n",
    "\n",
    "def VAE_Z30():\n",
    "    z_dim=30\n",
    "    inp=Input(shape=(100,3))\n",
    "\n",
    "    # Encoding\n",
    "    x=Flatten()(inp)\n",
    "    x=Dense(150, activation='relu')(x)\n",
    "    x=Dense(150, activation='relu')(x)\n",
    "    x=Dense(150, activation='relu')(x)\n",
    "    z_mean = Dense(z_dim, name='z_mean')(x)\n",
    "    z_log_var = Dense(z_dim, name='z_log_var')(x)\n",
    "    z = Lambda(sampling, output_shape=(z_dim,), name='z')([z_mean, z_log_var])\n",
    "\n",
    "    # Decoding\n",
    "    x=Dense(150, activation='relu')(z)\n",
    "    x=Dense(150, activation='relu')(x)\n",
    "    x=Dense(150, activation='relu')(x)\n",
    "    x=Dense(300)(x)\n",
    "    y=Reshape((100, 3))(x)\n",
    "    \n",
    "    # loss\n",
    "    reconstruction_loss = mse(inp, y)\n",
    "    kl_loss = 0.5 * K.sum(K.square(z_mean) + K.exp(z_log_var) - z_log_var - 1, axis = -1)\n",
    "    vae_loss = reconstruction_loss + kl_loss\n",
    "\n",
    "    # build model\n",
    "    vae = Model(inputs=[inp], outputs=[y])\n",
    "    vae.add_loss(vae_loss)\n",
    "    vae.compile(optimizer='adam')\n",
    "    vae.summary()\n",
    "    \n",
    "    encoder = Model(inputs=[inp], outputs=[z_mean])\n",
    "    return vae, encoder\n",
    "\n",
    "#resetRNG(0)\n",
    "#x_train_3D=np.expand_dims(x_train, 4)\n",
    "#x_test_3D=np.expand_dims(x_test, 4)\n",
    "#AE,E,train_data =AE_analysis(VAE_Z30, 10, x_train, x_test, filename='VAE_Z30')\n",
    "vae,_=VAE_Z30()\n",
    "train_data=vae.fit(x_train, x_train, shuffle=True, epochs=500, batch_size=128, validation_data=(x_test, x_test), verbose=0)\n",
    "visualize_AE(vae, train_data, x_test)"
   ]
  },
  {
   "cell_type": "code",
   "execution_count": 39,
   "metadata": {
    "ExecuteTime": {
     "end_time": "2020-01-09T21:29:09.708126Z",
     "start_time": "2020-01-09T21:29:09.381605Z"
    }
   },
   "outputs": [
    {
     "data": {
      "image/svg+xml": [
       "<svg height=\"968pt\" viewBox=\"0.00 0.00 518.00 968.00\" width=\"518pt\" xmlns=\"http://www.w3.org/2000/svg\" xmlns:xlink=\"http://www.w3.org/1999/xlink\">\n",
       "<g class=\"graph\" id=\"graph0\" transform=\"scale(1 1) rotate(0) translate(4 964)\">\n",
       "<title>G</title>\n",
       "<polygon fill=\"white\" points=\"-4,4 -4,-964 514,-964 514,4 -4,4\" stroke=\"none\"/>\n",
       "<!-- 2406888433480 -->\n",
       "<g class=\"node\" id=\"node1\"><title>2406888433480</title>\n",
       "<polygon fill=\"none\" points=\"108.5,-913.5 108.5,-959.5 395.5,-959.5 395.5,-913.5 108.5,-913.5\" stroke=\"black\"/>\n",
       "<text font-family=\"Times New Roman,serif\" font-size=\"14.00\" text-anchor=\"middle\" x=\"175\" y=\"-932.8\">input_18: InputLayer</text>\n",
       "<polyline fill=\"none\" points=\"241.5,-913.5 241.5,-959.5 \" stroke=\"black\"/>\n",
       "<text font-family=\"Times New Roman,serif\" font-size=\"14.00\" text-anchor=\"middle\" x=\"269.5\" y=\"-944.3\">input:</text>\n",
       "<polyline fill=\"none\" points=\"241.5,-936.5 297.5,-936.5 \" stroke=\"black\"/>\n",
       "<text font-family=\"Times New Roman,serif\" font-size=\"14.00\" text-anchor=\"middle\" x=\"269.5\" y=\"-921.3\">output:</text>\n",
       "<polyline fill=\"none\" points=\"297.5,-913.5 297.5,-959.5 \" stroke=\"black\"/>\n",
       "<text font-family=\"Times New Roman,serif\" font-size=\"14.00\" text-anchor=\"middle\" x=\"346.5\" y=\"-944.3\">(None, 100, 3)</text>\n",
       "<polyline fill=\"none\" points=\"297.5,-936.5 395.5,-936.5 \" stroke=\"black\"/>\n",
       "<text font-family=\"Times New Roman,serif\" font-size=\"14.00\" text-anchor=\"middle\" x=\"346.5\" y=\"-921.3\">(None, 100, 3)</text>\n",
       "</g>\n",
       "<!-- 2406909474120 -->\n",
       "<g class=\"node\" id=\"node2\"><title>2406909474120</title>\n",
       "<polygon fill=\"none\" points=\"117,-830.5 117,-876.5 387,-876.5 387,-830.5 117,-830.5\" stroke=\"black\"/>\n",
       "<text font-family=\"Times New Roman,serif\" font-size=\"14.00\" text-anchor=\"middle\" x=\"175\" y=\"-849.8\">flatten_22: Flatten</text>\n",
       "<polyline fill=\"none\" points=\"233,-830.5 233,-876.5 \" stroke=\"black\"/>\n",
       "<text font-family=\"Times New Roman,serif\" font-size=\"14.00\" text-anchor=\"middle\" x=\"261\" y=\"-861.3\">input:</text>\n",
       "<polyline fill=\"none\" points=\"233,-853.5 289,-853.5 \" stroke=\"black\"/>\n",
       "<text font-family=\"Times New Roman,serif\" font-size=\"14.00\" text-anchor=\"middle\" x=\"261\" y=\"-838.3\">output:</text>\n",
       "<polyline fill=\"none\" points=\"289,-830.5 289,-876.5 \" stroke=\"black\"/>\n",
       "<text font-family=\"Times New Roman,serif\" font-size=\"14.00\" text-anchor=\"middle\" x=\"338\" y=\"-861.3\">(None, 100, 3)</text>\n",
       "<polyline fill=\"none\" points=\"289,-853.5 387,-853.5 \" stroke=\"black\"/>\n",
       "<text font-family=\"Times New Roman,serif\" font-size=\"14.00\" text-anchor=\"middle\" x=\"338\" y=\"-838.3\">(None, 300)</text>\n",
       "</g>\n",
       "<!-- 2406888433480&#45;&gt;2406909474120 -->\n",
       "<g class=\"edge\" id=\"edge1\"><title>2406888433480-&gt;2406909474120</title>\n",
       "<path d=\"M252,-913.366C252,-905.152 252,-895.658 252,-886.725\" fill=\"none\" stroke=\"black\"/>\n",
       "<polygon fill=\"black\" points=\"255.5,-886.607 252,-876.607 248.5,-886.607 255.5,-886.607\" stroke=\"black\"/>\n",
       "</g>\n",
       "<!-- 2406911046536 -->\n",
       "<g class=\"node\" id=\"node3\"><title>2406911046536</title>\n",
       "<polygon fill=\"none\" points=\"123.5,-747.5 123.5,-793.5 380.5,-793.5 380.5,-747.5 123.5,-747.5\" stroke=\"black\"/>\n",
       "<text font-family=\"Times New Roman,serif\" font-size=\"14.00\" text-anchor=\"middle\" x=\"182.5\" y=\"-766.8\">dense_153: Dense</text>\n",
       "<polyline fill=\"none\" points=\"241.5,-747.5 241.5,-793.5 \" stroke=\"black\"/>\n",
       "<text font-family=\"Times New Roman,serif\" font-size=\"14.00\" text-anchor=\"middle\" x=\"269.5\" y=\"-778.3\">input:</text>\n",
       "<polyline fill=\"none\" points=\"241.5,-770.5 297.5,-770.5 \" stroke=\"black\"/>\n",
       "<text font-family=\"Times New Roman,serif\" font-size=\"14.00\" text-anchor=\"middle\" x=\"269.5\" y=\"-755.3\">output:</text>\n",
       "<polyline fill=\"none\" points=\"297.5,-747.5 297.5,-793.5 \" stroke=\"black\"/>\n",
       "<text font-family=\"Times New Roman,serif\" font-size=\"14.00\" text-anchor=\"middle\" x=\"339\" y=\"-778.3\">(None, 300)</text>\n",
       "<polyline fill=\"none\" points=\"297.5,-770.5 380.5,-770.5 \" stroke=\"black\"/>\n",
       "<text font-family=\"Times New Roman,serif\" font-size=\"14.00\" text-anchor=\"middle\" x=\"339\" y=\"-755.3\">(None, 150)</text>\n",
       "</g>\n",
       "<!-- 2406909474120&#45;&gt;2406911046536 -->\n",
       "<g class=\"edge\" id=\"edge2\"><title>2406909474120-&gt;2406911046536</title>\n",
       "<path d=\"M252,-830.366C252,-822.152 252,-812.658 252,-803.725\" fill=\"none\" stroke=\"black\"/>\n",
       "<polygon fill=\"black\" points=\"255.5,-803.607 252,-793.607 248.5,-803.607 255.5,-803.607\" stroke=\"black\"/>\n",
       "</g>\n",
       "<!-- 2406911580360 -->\n",
       "<g class=\"node\" id=\"node4\"><title>2406911580360</title>\n",
       "<polygon fill=\"none\" points=\"123.5,-664.5 123.5,-710.5 380.5,-710.5 380.5,-664.5 123.5,-664.5\" stroke=\"black\"/>\n",
       "<text font-family=\"Times New Roman,serif\" font-size=\"14.00\" text-anchor=\"middle\" x=\"182.5\" y=\"-683.8\">dense_154: Dense</text>\n",
       "<polyline fill=\"none\" points=\"241.5,-664.5 241.5,-710.5 \" stroke=\"black\"/>\n",
       "<text font-family=\"Times New Roman,serif\" font-size=\"14.00\" text-anchor=\"middle\" x=\"269.5\" y=\"-695.3\">input:</text>\n",
       "<polyline fill=\"none\" points=\"241.5,-687.5 297.5,-687.5 \" stroke=\"black\"/>\n",
       "<text font-family=\"Times New Roman,serif\" font-size=\"14.00\" text-anchor=\"middle\" x=\"269.5\" y=\"-672.3\">output:</text>\n",
       "<polyline fill=\"none\" points=\"297.5,-664.5 297.5,-710.5 \" stroke=\"black\"/>\n",
       "<text font-family=\"Times New Roman,serif\" font-size=\"14.00\" text-anchor=\"middle\" x=\"339\" y=\"-695.3\">(None, 150)</text>\n",
       "<polyline fill=\"none\" points=\"297.5,-687.5 380.5,-687.5 \" stroke=\"black\"/>\n",
       "<text font-family=\"Times New Roman,serif\" font-size=\"14.00\" text-anchor=\"middle\" x=\"339\" y=\"-672.3\">(None, 150)</text>\n",
       "</g>\n",
       "<!-- 2406911046536&#45;&gt;2406911580360 -->\n",
       "<g class=\"edge\" id=\"edge3\"><title>2406911046536-&gt;2406911580360</title>\n",
       "<path d=\"M252,-747.366C252,-739.152 252,-729.658 252,-720.725\" fill=\"none\" stroke=\"black\"/>\n",
       "<polygon fill=\"black\" points=\"255.5,-720.607 252,-710.607 248.5,-720.607 255.5,-720.607\" stroke=\"black\"/>\n",
       "</g>\n",
       "<!-- 2406911614472 -->\n",
       "<g class=\"node\" id=\"node5\"><title>2406911614472</title>\n",
       "<polygon fill=\"none\" points=\"123.5,-581.5 123.5,-627.5 380.5,-627.5 380.5,-581.5 123.5,-581.5\" stroke=\"black\"/>\n",
       "<text font-family=\"Times New Roman,serif\" font-size=\"14.00\" text-anchor=\"middle\" x=\"182.5\" y=\"-600.8\">dense_155: Dense</text>\n",
       "<polyline fill=\"none\" points=\"241.5,-581.5 241.5,-627.5 \" stroke=\"black\"/>\n",
       "<text font-family=\"Times New Roman,serif\" font-size=\"14.00\" text-anchor=\"middle\" x=\"269.5\" y=\"-612.3\">input:</text>\n",
       "<polyline fill=\"none\" points=\"241.5,-604.5 297.5,-604.5 \" stroke=\"black\"/>\n",
       "<text font-family=\"Times New Roman,serif\" font-size=\"14.00\" text-anchor=\"middle\" x=\"269.5\" y=\"-589.3\">output:</text>\n",
       "<polyline fill=\"none\" points=\"297.5,-581.5 297.5,-627.5 \" stroke=\"black\"/>\n",
       "<text font-family=\"Times New Roman,serif\" font-size=\"14.00\" text-anchor=\"middle\" x=\"339\" y=\"-612.3\">(None, 150)</text>\n",
       "<polyline fill=\"none\" points=\"297.5,-604.5 380.5,-604.5 \" stroke=\"black\"/>\n",
       "<text font-family=\"Times New Roman,serif\" font-size=\"14.00\" text-anchor=\"middle\" x=\"339\" y=\"-589.3\">(None, 150)</text>\n",
       "</g>\n",
       "<!-- 2406911580360&#45;&gt;2406911614472 -->\n",
       "<g class=\"edge\" id=\"edge4\"><title>2406911580360-&gt;2406911614472</title>\n",
       "<path d=\"M252,-664.366C252,-656.152 252,-646.658 252,-637.725\" fill=\"none\" stroke=\"black\"/>\n",
       "<polygon fill=\"black\" points=\"255.5,-637.607 252,-627.607 248.5,-637.607 255.5,-637.607\" stroke=\"black\"/>\n",
       "</g>\n",
       "<!-- 2406886882376 -->\n",
       "<g class=\"node\" id=\"node6\"><title>2406886882376</title>\n",
       "<polygon fill=\"none\" points=\"0,-498.5 0,-544.5 240,-544.5 240,-498.5 0,-498.5\" stroke=\"black\"/>\n",
       "<text font-family=\"Times New Roman,serif\" font-size=\"14.00\" text-anchor=\"middle\" x=\"50.5\" y=\"-517.8\">z_mean: Dense</text>\n",
       "<polyline fill=\"none\" points=\"101,-498.5 101,-544.5 \" stroke=\"black\"/>\n",
       "<text font-family=\"Times New Roman,serif\" font-size=\"14.00\" text-anchor=\"middle\" x=\"129\" y=\"-529.3\">input:</text>\n",
       "<polyline fill=\"none\" points=\"101,-521.5 157,-521.5 \" stroke=\"black\"/>\n",
       "<text font-family=\"Times New Roman,serif\" font-size=\"14.00\" text-anchor=\"middle\" x=\"129\" y=\"-506.3\">output:</text>\n",
       "<polyline fill=\"none\" points=\"157,-498.5 157,-544.5 \" stroke=\"black\"/>\n",
       "<text font-family=\"Times New Roman,serif\" font-size=\"14.00\" text-anchor=\"middle\" x=\"198.5\" y=\"-529.3\">(None, 150)</text>\n",
       "<polyline fill=\"none\" points=\"157,-521.5 240,-521.5 \" stroke=\"black\"/>\n",
       "<text font-family=\"Times New Roman,serif\" font-size=\"14.00\" text-anchor=\"middle\" x=\"198.5\" y=\"-506.3\">(None, 30)</text>\n",
       "</g>\n",
       "<!-- 2406911614472&#45;&gt;2406886882376 -->\n",
       "<g class=\"edge\" id=\"edge5\"><title>2406911614472-&gt;2406886882376</title>\n",
       "<path d=\"M215.93,-581.366C200.07,-571.634 181.283,-560.106 164.558,-549.842\" fill=\"none\" stroke=\"black\"/>\n",
       "<polygon fill=\"black\" points=\"166.38,-546.854 156.026,-544.607 162.719,-552.82 166.38,-546.854\" stroke=\"black\"/>\n",
       "</g>\n",
       "<!-- 2406885868680 -->\n",
       "<g class=\"node\" id=\"node7\"><title>2406885868680</title>\n",
       "<polygon fill=\"none\" points=\"258,-498.5 258,-544.5 510,-544.5 510,-498.5 258,-498.5\" stroke=\"black\"/>\n",
       "<text font-family=\"Times New Roman,serif\" font-size=\"14.00\" text-anchor=\"middle\" x=\"314.5\" y=\"-517.8\">z_log_var: Dense</text>\n",
       "<polyline fill=\"none\" points=\"371,-498.5 371,-544.5 \" stroke=\"black\"/>\n",
       "<text font-family=\"Times New Roman,serif\" font-size=\"14.00\" text-anchor=\"middle\" x=\"399\" y=\"-529.3\">input:</text>\n",
       "<polyline fill=\"none\" points=\"371,-521.5 427,-521.5 \" stroke=\"black\"/>\n",
       "<text font-family=\"Times New Roman,serif\" font-size=\"14.00\" text-anchor=\"middle\" x=\"399\" y=\"-506.3\">output:</text>\n",
       "<polyline fill=\"none\" points=\"427,-498.5 427,-544.5 \" stroke=\"black\"/>\n",
       "<text font-family=\"Times New Roman,serif\" font-size=\"14.00\" text-anchor=\"middle\" x=\"468.5\" y=\"-529.3\">(None, 150)</text>\n",
       "<polyline fill=\"none\" points=\"427,-521.5 510,-521.5 \" stroke=\"black\"/>\n",
       "<text font-family=\"Times New Roman,serif\" font-size=\"14.00\" text-anchor=\"middle\" x=\"468.5\" y=\"-506.3\">(None, 30)</text>\n",
       "</g>\n",
       "<!-- 2406911614472&#45;&gt;2406885868680 -->\n",
       "<g class=\"edge\" id=\"edge6\"><title>2406911614472-&gt;2406885868680</title>\n",
       "<path d=\"M288.07,-581.366C303.93,-571.634 322.717,-560.106 339.442,-549.842\" fill=\"none\" stroke=\"black\"/>\n",
       "<polygon fill=\"black\" points=\"341.281,-552.82 347.974,-544.607 337.62,-546.854 341.281,-552.82\" stroke=\"black\"/>\n",
       "</g>\n",
       "<!-- 2406887269064 -->\n",
       "<g class=\"node\" id=\"node8\"><title>2406887269064</title>\n",
       "<polygon fill=\"none\" points=\"110,-415.5 110,-461.5 394,-461.5 394,-415.5 110,-415.5\" stroke=\"black\"/>\n",
       "<text font-family=\"Times New Roman,serif\" font-size=\"14.00\" text-anchor=\"middle\" x=\"147.5\" y=\"-434.8\">z: Lambda</text>\n",
       "<polyline fill=\"none\" points=\"185,-415.5 185,-461.5 \" stroke=\"black\"/>\n",
       "<text font-family=\"Times New Roman,serif\" font-size=\"14.00\" text-anchor=\"middle\" x=\"213\" y=\"-446.3\">input:</text>\n",
       "<polyline fill=\"none\" points=\"185,-438.5 241,-438.5 \" stroke=\"black\"/>\n",
       "<text font-family=\"Times New Roman,serif\" font-size=\"14.00\" text-anchor=\"middle\" x=\"213\" y=\"-423.3\">output:</text>\n",
       "<polyline fill=\"none\" points=\"241,-415.5 241,-461.5 \" stroke=\"black\"/>\n",
       "<text font-family=\"Times New Roman,serif\" font-size=\"14.00\" text-anchor=\"middle\" x=\"317.5\" y=\"-446.3\">[(None, 30), (None, 30)]</text>\n",
       "<polyline fill=\"none\" points=\"241,-438.5 394,-438.5 \" stroke=\"black\"/>\n",
       "<text font-family=\"Times New Roman,serif\" font-size=\"14.00\" text-anchor=\"middle\" x=\"317.5\" y=\"-423.3\">(None, 30)</text>\n",
       "</g>\n",
       "<!-- 2406886882376&#45;&gt;2406887269064 -->\n",
       "<g class=\"edge\" id=\"edge7\"><title>2406886882376-&gt;2406887269064</title>\n",
       "<path d=\"M156.07,-498.366C171.93,-488.634 190.717,-477.106 207.442,-466.842\" fill=\"none\" stroke=\"black\"/>\n",
       "<polygon fill=\"black\" points=\"209.281,-469.82 215.974,-461.607 205.62,-463.854 209.281,-469.82\" stroke=\"black\"/>\n",
       "</g>\n",
       "<!-- 2406885868680&#45;&gt;2406887269064 -->\n",
       "<g class=\"edge\" id=\"edge8\"><title>2406885868680-&gt;2406887269064</title>\n",
       "<path d=\"M347.93,-498.366C332.07,-488.634 313.283,-477.106 296.558,-466.842\" fill=\"none\" stroke=\"black\"/>\n",
       "<polygon fill=\"black\" points=\"298.38,-463.854 288.026,-461.607 294.719,-469.82 298.38,-463.854\" stroke=\"black\"/>\n",
       "</g>\n",
       "<!-- 2406889178120 -->\n",
       "<g class=\"node\" id=\"node9\"><title>2406889178120</title>\n",
       "<polygon fill=\"none\" points=\"123.5,-332.5 123.5,-378.5 380.5,-378.5 380.5,-332.5 123.5,-332.5\" stroke=\"black\"/>\n",
       "<text font-family=\"Times New Roman,serif\" font-size=\"14.00\" text-anchor=\"middle\" x=\"182.5\" y=\"-351.8\">dense_156: Dense</text>\n",
       "<polyline fill=\"none\" points=\"241.5,-332.5 241.5,-378.5 \" stroke=\"black\"/>\n",
       "<text font-family=\"Times New Roman,serif\" font-size=\"14.00\" text-anchor=\"middle\" x=\"269.5\" y=\"-363.3\">input:</text>\n",
       "<polyline fill=\"none\" points=\"241.5,-355.5 297.5,-355.5 \" stroke=\"black\"/>\n",
       "<text font-family=\"Times New Roman,serif\" font-size=\"14.00\" text-anchor=\"middle\" x=\"269.5\" y=\"-340.3\">output:</text>\n",
       "<polyline fill=\"none\" points=\"297.5,-332.5 297.5,-378.5 \" stroke=\"black\"/>\n",
       "<text font-family=\"Times New Roman,serif\" font-size=\"14.00\" text-anchor=\"middle\" x=\"339\" y=\"-363.3\">(None, 30)</text>\n",
       "<polyline fill=\"none\" points=\"297.5,-355.5 380.5,-355.5 \" stroke=\"black\"/>\n",
       "<text font-family=\"Times New Roman,serif\" font-size=\"14.00\" text-anchor=\"middle\" x=\"339\" y=\"-340.3\">(None, 150)</text>\n",
       "</g>\n",
       "<!-- 2406887269064&#45;&gt;2406889178120 -->\n",
       "<g class=\"edge\" id=\"edge9\"><title>2406887269064-&gt;2406889178120</title>\n",
       "<path d=\"M252,-415.366C252,-407.152 252,-397.658 252,-388.725\" fill=\"none\" stroke=\"black\"/>\n",
       "<polygon fill=\"black\" points=\"255.5,-388.607 252,-378.607 248.5,-388.607 255.5,-388.607\" stroke=\"black\"/>\n",
       "</g>\n",
       "<!-- 2406912032712 -->\n",
       "<g class=\"node\" id=\"node10\"><title>2406912032712</title>\n",
       "<polygon fill=\"none\" points=\"123.5,-249.5 123.5,-295.5 380.5,-295.5 380.5,-249.5 123.5,-249.5\" stroke=\"black\"/>\n",
       "<text font-family=\"Times New Roman,serif\" font-size=\"14.00\" text-anchor=\"middle\" x=\"182.5\" y=\"-268.8\">dense_157: Dense</text>\n",
       "<polyline fill=\"none\" points=\"241.5,-249.5 241.5,-295.5 \" stroke=\"black\"/>\n",
       "<text font-family=\"Times New Roman,serif\" font-size=\"14.00\" text-anchor=\"middle\" x=\"269.5\" y=\"-280.3\">input:</text>\n",
       "<polyline fill=\"none\" points=\"241.5,-272.5 297.5,-272.5 \" stroke=\"black\"/>\n",
       "<text font-family=\"Times New Roman,serif\" font-size=\"14.00\" text-anchor=\"middle\" x=\"269.5\" y=\"-257.3\">output:</text>\n",
       "<polyline fill=\"none\" points=\"297.5,-249.5 297.5,-295.5 \" stroke=\"black\"/>\n",
       "<text font-family=\"Times New Roman,serif\" font-size=\"14.00\" text-anchor=\"middle\" x=\"339\" y=\"-280.3\">(None, 150)</text>\n",
       "<polyline fill=\"none\" points=\"297.5,-272.5 380.5,-272.5 \" stroke=\"black\"/>\n",
       "<text font-family=\"Times New Roman,serif\" font-size=\"14.00\" text-anchor=\"middle\" x=\"339\" y=\"-257.3\">(None, 150)</text>\n",
       "</g>\n",
       "<!-- 2406889178120&#45;&gt;2406912032712 -->\n",
       "<g class=\"edge\" id=\"edge10\"><title>2406889178120-&gt;2406912032712</title>\n",
       "<path d=\"M252,-332.366C252,-324.152 252,-314.658 252,-305.725\" fill=\"none\" stroke=\"black\"/>\n",
       "<polygon fill=\"black\" points=\"255.5,-305.607 252,-295.607 248.5,-305.607 255.5,-305.607\" stroke=\"black\"/>\n",
       "</g>\n",
       "<!-- 2406909871304 -->\n",
       "<g class=\"node\" id=\"node11\"><title>2406909871304</title>\n",
       "<polygon fill=\"none\" points=\"123.5,-166.5 123.5,-212.5 380.5,-212.5 380.5,-166.5 123.5,-166.5\" stroke=\"black\"/>\n",
       "<text font-family=\"Times New Roman,serif\" font-size=\"14.00\" text-anchor=\"middle\" x=\"182.5\" y=\"-185.8\">dense_158: Dense</text>\n",
       "<polyline fill=\"none\" points=\"241.5,-166.5 241.5,-212.5 \" stroke=\"black\"/>\n",
       "<text font-family=\"Times New Roman,serif\" font-size=\"14.00\" text-anchor=\"middle\" x=\"269.5\" y=\"-197.3\">input:</text>\n",
       "<polyline fill=\"none\" points=\"241.5,-189.5 297.5,-189.5 \" stroke=\"black\"/>\n",
       "<text font-family=\"Times New Roman,serif\" font-size=\"14.00\" text-anchor=\"middle\" x=\"269.5\" y=\"-174.3\">output:</text>\n",
       "<polyline fill=\"none\" points=\"297.5,-166.5 297.5,-212.5 \" stroke=\"black\"/>\n",
       "<text font-family=\"Times New Roman,serif\" font-size=\"14.00\" text-anchor=\"middle\" x=\"339\" y=\"-197.3\">(None, 150)</text>\n",
       "<polyline fill=\"none\" points=\"297.5,-189.5 380.5,-189.5 \" stroke=\"black\"/>\n",
       "<text font-family=\"Times New Roman,serif\" font-size=\"14.00\" text-anchor=\"middle\" x=\"339\" y=\"-174.3\">(None, 150)</text>\n",
       "</g>\n",
       "<!-- 2406912032712&#45;&gt;2406909871304 -->\n",
       "<g class=\"edge\" id=\"edge11\"><title>2406912032712-&gt;2406909871304</title>\n",
       "<path d=\"M252,-249.366C252,-241.152 252,-231.658 252,-222.725\" fill=\"none\" stroke=\"black\"/>\n",
       "<polygon fill=\"black\" points=\"255.5,-222.607 252,-212.607 248.5,-222.607 255.5,-222.607\" stroke=\"black\"/>\n",
       "</g>\n",
       "<!-- 2406912071112 -->\n",
       "<g class=\"node\" id=\"node12\"><title>2406912071112</title>\n",
       "<polygon fill=\"none\" points=\"123.5,-83.5 123.5,-129.5 380.5,-129.5 380.5,-83.5 123.5,-83.5\" stroke=\"black\"/>\n",
       "<text font-family=\"Times New Roman,serif\" font-size=\"14.00\" text-anchor=\"middle\" x=\"182.5\" y=\"-102.8\">dense_159: Dense</text>\n",
       "<polyline fill=\"none\" points=\"241.5,-83.5 241.5,-129.5 \" stroke=\"black\"/>\n",
       "<text font-family=\"Times New Roman,serif\" font-size=\"14.00\" text-anchor=\"middle\" x=\"269.5\" y=\"-114.3\">input:</text>\n",
       "<polyline fill=\"none\" points=\"241.5,-106.5 297.5,-106.5 \" stroke=\"black\"/>\n",
       "<text font-family=\"Times New Roman,serif\" font-size=\"14.00\" text-anchor=\"middle\" x=\"269.5\" y=\"-91.3\">output:</text>\n",
       "<polyline fill=\"none\" points=\"297.5,-83.5 297.5,-129.5 \" stroke=\"black\"/>\n",
       "<text font-family=\"Times New Roman,serif\" font-size=\"14.00\" text-anchor=\"middle\" x=\"339\" y=\"-114.3\">(None, 150)</text>\n",
       "<polyline fill=\"none\" points=\"297.5,-106.5 380.5,-106.5 \" stroke=\"black\"/>\n",
       "<text font-family=\"Times New Roman,serif\" font-size=\"14.00\" text-anchor=\"middle\" x=\"339\" y=\"-91.3\">(None, 300)</text>\n",
       "</g>\n",
       "<!-- 2406909871304&#45;&gt;2406912071112 -->\n",
       "<g class=\"edge\" id=\"edge12\"><title>2406909871304-&gt;2406912071112</title>\n",
       "<path d=\"M252,-166.366C252,-158.152 252,-148.658 252,-139.725\" fill=\"none\" stroke=\"black\"/>\n",
       "<polygon fill=\"black\" points=\"255.5,-139.607 252,-129.607 248.5,-139.607 255.5,-139.607\" stroke=\"black\"/>\n",
       "</g>\n",
       "<!-- 2406912120008 -->\n",
       "<g class=\"node\" id=\"node13\"><title>2406912120008</title>\n",
       "<polygon fill=\"none\" points=\"107.5,-0.5 107.5,-46.5 396.5,-46.5 396.5,-0.5 107.5,-0.5\" stroke=\"black\"/>\n",
       "<text font-family=\"Times New Roman,serif\" font-size=\"14.00\" text-anchor=\"middle\" x=\"175\" y=\"-19.8\">reshape_16: Reshape</text>\n",
       "<polyline fill=\"none\" points=\"242.5,-0.5 242.5,-46.5 \" stroke=\"black\"/>\n",
       "<text font-family=\"Times New Roman,serif\" font-size=\"14.00\" text-anchor=\"middle\" x=\"270.5\" y=\"-31.3\">input:</text>\n",
       "<polyline fill=\"none\" points=\"242.5,-23.5 298.5,-23.5 \" stroke=\"black\"/>\n",
       "<text font-family=\"Times New Roman,serif\" font-size=\"14.00\" text-anchor=\"middle\" x=\"270.5\" y=\"-8.3\">output:</text>\n",
       "<polyline fill=\"none\" points=\"298.5,-0.5 298.5,-46.5 \" stroke=\"black\"/>\n",
       "<text font-family=\"Times New Roman,serif\" font-size=\"14.00\" text-anchor=\"middle\" x=\"347.5\" y=\"-31.3\">(None, 300)</text>\n",
       "<polyline fill=\"none\" points=\"298.5,-23.5 396.5,-23.5 \" stroke=\"black\"/>\n",
       "<text font-family=\"Times New Roman,serif\" font-size=\"14.00\" text-anchor=\"middle\" x=\"347.5\" y=\"-8.3\">(None, 100, 3)</text>\n",
       "</g>\n",
       "<!-- 2406912071112&#45;&gt;2406912120008 -->\n",
       "<g class=\"edge\" id=\"edge13\"><title>2406912071112-&gt;2406912120008</title>\n",
       "<path d=\"M252,-83.3664C252,-75.1516 252,-65.6579 252,-56.7252\" fill=\"none\" stroke=\"black\"/>\n",
       "<polygon fill=\"black\" points=\"255.5,-56.6068 252,-46.6068 248.5,-56.6069 255.5,-56.6068\" stroke=\"black\"/>\n",
       "</g>\n",
       "</g>\n",
       "</svg>"
      ],
      "text/plain": [
       "<IPython.core.display.SVG object>"
      ]
     },
     "execution_count": 39,
     "metadata": {},
     "output_type": "execute_result"
    }
   ],
   "source": [
    "SVG(model_to_dot(vae, show_shapes='true', show_layer_names='true').create(prog='dot', format='svg'))"
   ]
  },
  {
   "cell_type": "code",
   "execution_count": null,
   "metadata": {},
   "outputs": [],
   "source": [
    "# Disentangling VAE"
   ]
  },
  {
   "cell_type": "code",
   "execution_count": 1,
   "metadata": {},
   "outputs": [],
   "source": [
    "# Deep feature consistent variational auto-encoder\n",
    "# using 'feature perceptual loss' instead of 'reconstruction loss'\n",
    "# needs a pre-trained 'perception model'"
   ]
  },
  {
   "cell_type": "code",
   "execution_count": null,
   "metadata": {},
   "outputs": [],
   "source": [
    "# Conditional VAE\n",
    "# for path completion\n",
    "# Train using mask and respective incomplete paths as input and full path as output.\n",
    "def CVAE_Z30():\n",
    "    z_dim=30\n",
    "    inp=Input(shape=(100,3))\n",
    "    condition=Input(shape=(100,1))\n",
    "    inp_cond= concatenate([x, condition])\n",
    "\n",
    "    # Encoding\n",
    "    x=Flatten()(inp_cond)\n",
    "    x=Dense(150, activation='relu')(x)\n",
    "    x=Dense(150, activation='relu')(x)\n",
    "    x=Dense(150, activation='relu')(x)\n",
    "    z_mean = Dense(z_dim, name='z_mean')(x)\n",
    "    z_log_var = Dense(z_dim, name='z_log_var')(x)\n",
    "    z = Lambda(sampling, output_shape=(z_dim,), name='z')([z_mean, z_log_var])\n",
    "\n",
    "    # Decoding\n",
    "    z_cond = concatenate([z, condition])\n",
    "    x=Dense(150, activation='relu')(z_cond)\n",
    "    x=Dense(150, activation='relu')(x)\n",
    "    x=Dense(150, activation='relu')(x)\n",
    "    x=Dense(300)(x)\n",
    "    y=Reshape((100, 3))(x)\n",
    "    \n",
    "    # loss\n",
    "    reconstruction_loss = mse(inp, y)\n",
    "    kl_loss = 0.5 * K.sum(K.square(z_mean) + K.exp(z_log_var) - z_log_var - 1, axis = -1)\n",
    "    vae_loss = reconstruction_loss + kl_loss\n",
    "\n",
    "    # build model\n",
    "    cvae = Model(inputs=[inp,condition], outputs=[y])\n",
    "    cvae.add_loss(vae_loss)\n",
    "    cvae.compile(optimizer='adam')\n",
    "    cvae.summary()\n",
    "    \n",
    "    encoder = Model(inputs=[inp,condition], outputs=[z_mean])\n",
    "    return cvae, encoder\n",
    "\n",
    "cvae,_=CVAE_Z30()\n",
    "train_data=cvae.fit([x_train, cond_train], x_train, shuffle=True, epochs=500, batch_size=128, \n",
    "                    validation_data=([x_test, cond_train], x_test), verbose=0)\n",
    "visualize_AE(cvae, train_data, x_test)"
   ]
  },
  {
   "cell_type": "code",
   "execution_count": null,
   "metadata": {},
   "outputs": [],
   "source": [
    "# Shared Encoder CVAE\n",
    "# Has single encoder and multiple decoders\n",
    "# Used to generate DeepFake/FaceSwap\n",
    "\n",
    "def BCVAE_encoder():\n",
    "    z_dim=30\n",
    "    inp=Input(shape=(100,3))\n",
    "    condition=Input(shape=(100,1))\n",
    "    inp_cond= concatenate([x, condition])\n",
    "\n",
    "    # Encoding\n",
    "    x=Flatten()(inp_cond)\n",
    "    x=Dense(150, activation='relu')(x)\n",
    "    x=Dense(150, activation='relu')(x)\n",
    "    x=Dense(150, activation='relu')(x)\n",
    "    z_mean = Dense(z_dim, name='z_mean')(x)\n",
    "    z_log_var = Dense(z_dim, name='z_log_var')(x)\n",
    "    z = Lambda(sampling, output_shape=(z_dim,), name='z')([z_mean, z_log_var])\n",
    "    \n",
    "    return encoder = Model(inputs=[inp,condition], outputs=[z])\n",
    "    \n",
    "def SCVAE_decoder():\n",
    "    z_dim=30\n",
    "    inp=Input(shape=(100,3))\n",
    "    condition=Input(shape=(100,1))\n",
    "    inp_cond= concatenate([x, condition])\n",
    "\n",
    "    # Encoding\n",
    "    x=Flatten()(inp_cond)\n",
    "    x=Dense(150, activation='relu')(x)\n",
    "    x=Dense(150, activation='relu')(x)\n",
    "    x=Dense(150, activation='relu')(x)\n",
    "    z_mean = Dense(z_dim, name='z_mean')(x)\n",
    "    z_log_var = Dense(z_dim, name='z_log_var')(x)\n",
    "    z = Lambda(sampling, output_shape=(z_dim,), name='z')([z_mean, z_log_var])\n",
    "    \n",
    "    return encoder = Model(inputs=[inp,condition], outputs=[z])\n",
    "    "
   ]
  },
  {
   "cell_type": "code",
   "execution_count": null,
   "metadata": {},
   "outputs": [],
   "source": [
    "# use domain knowledge and use multiple parallel input lambda layers for FDs, CAD, wavelets, etc"
   ]
  },
  {
   "cell_type": "code",
   "execution_count": null,
   "metadata": {},
   "outputs": [],
   "source": []
  }
 ],
 "metadata": {
  "kernelspec": {
   "display_name": "Python 3",
   "language": "python",
   "name": "python3"
  },
  "language_info": {
   "codemirror_mode": {
    "name": "ipython",
    "version": 3
   },
   "file_extension": ".py",
   "mimetype": "text/x-python",
   "name": "python",
   "nbconvert_exporter": "python",
   "pygments_lexer": "ipython3",
   "version": "3.7.5"
  }
 },
 "nbformat": 4,
 "nbformat_minor": 2
}
