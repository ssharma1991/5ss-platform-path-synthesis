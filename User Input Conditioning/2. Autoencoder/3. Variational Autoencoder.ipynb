{
 "cells": [
  {
   "cell_type": "markdown",
   "metadata": {},
   "source": [
    "# Variational Autoencoder Z=30"
   ]
  },
  {
   "cell_type": "code",
   "execution_count": null,
   "metadata": {},
   "outputs": [],
   "source": [
    "from keras.layers import Input, Dense, Lambda, Layer, Add, Multiply\n",
    "from keras.losses import mse\n",
    "\n",
    "class KLDivergenceLayer(Layer):\n",
    "\n",
    "    \"\"\" Identity transform layer that adds KL divergence\n",
    "    to the final model loss.\n",
    "    \"\"\"\n",
    "\n",
    "    def __init__(self, *args, **kwargs):\n",
    "        self.is_placeholder = True\n",
    "        super(KLDivergenceLayer, self).__init__(*args, **kwargs)\n",
    "\n",
    "    def call(self, inputs):\n",
    "        mu, log_var = inputs\n",
    "        kl_batch = - .5 * K.sum(1 + log_var - K.square(mu) - K.exp(log_var), axis=-1)\n",
    "        self.add_loss(K.mean(kl_batch), inputs=inputs)\n",
    "        return inputs\n",
    "\n",
    "def reconstruction_loss(y_true, y_pred):\n",
    "    return mse(y_true, y_pred)*300\n",
    "\n",
    "\n",
    "def VAE_Z30():\n",
    "    z_dim=30\n",
    "    inp_curve=Input(shape=(100,3))\n",
    "\n",
    "    # Encoding\n",
    "    x=Flatten()(inp_curve)\n",
    "    x=Dense(150, activation='relu')(x)\n",
    "    #x=Dense(150, activation='relu')(x)\n",
    "    #x=Dense(150, activation='relu')(x)\n",
    "\n",
    "    z_mu = Dense(z_dim)(x)\n",
    "    z_log_var = Dense(z_dim)(x)\n",
    "\n",
    "    z_mu, z_log_var = KLDivergenceLayer()([z_mu, z_log_var])\n",
    "    z_sigma = Lambda(lambda t: K.exp(.5*t))(z_log_var) # normalize log variance to std dev\n",
    "\n",
    "    eps = Input(tensor=K.random_normal(shape=(K.shape(x)[0],z_dim)))\n",
    "    z_eps = Multiply()([z_sigma, eps])\n",
    "    encoded = Add()([z_mu, z_eps])\n",
    "\n",
    "    # Decoding\n",
    "    x=Dense(150, activation='relu')(encoded)\n",
    "    #x=Dense(150, activation='relu')(x)\n",
    "    #x=Dense(150, activation='relu')(x)\n",
    "    x=Dense(300)(x)\n",
    "    decoded=Reshape((100, 3))(x)\n",
    "\n",
    "    vae = Model(inputs=[inp_curve, eps], outputs=decoded)\n",
    "    encoder = Model(inputs=[inp_curve, eps], outputs=encoded)\n",
    "    \n",
    "    return vae, encoder\n",
    "\n",
    "#resetRNG(0)\n",
    "#x_train_3D=np.expand_dims(x_train, 4)\n",
    "#x_test_3D=np.expand_dims(x_test, 4)\n",
    "#AE,E,train_data =AE_analysis(VAE_Z30, 10, x_train, x_test, filename='VAE_Z30')\n",
    "vae,_=VAE_Z30()\n",
    "vae.summary()\n",
    "vae.compile(optimizer='rmsprop', loss=reconstruction_loss)\n",
    "train_data=vae.fit(x_train, x_train,\n",
    "        shuffle=True,\n",
    "        epochs=500,\n",
    "        batch_size=128,\n",
    "        validation_data=(x_test, x_test), verbose=0)\n",
    "visualize_AE(vae, train_data, x_test)"
   ]
  },
  {
   "cell_type": "code",
   "execution_count": null,
   "metadata": {},
   "outputs": [],
   "source": [
    "# Conditional VAE"
   ]
  },
  {
   "cell_type": "code",
   "execution_count": null,
   "metadata": {},
   "outputs": [],
   "source": [
    "# Disentangling VAE"
   ]
  },
  {
   "cell_type": "code",
   "execution_count": null,
   "metadata": {},
   "outputs": [],
   "source": [
    "# use domain knowledge and use multiple parallel input lambda layers for FDs, CAD, wavelets, etc"
   ]
  },
  {
   "cell_type": "code",
   "execution_count": null,
   "metadata": {},
   "outputs": [],
   "source": [
    "# Deep feature consistent variational auto-encoder"
   ]
  },
  {
   "cell_type": "code",
   "execution_count": null,
   "metadata": {},
   "outputs": [],
   "source": []
  }
 ],
 "metadata": {
  "kernelspec": {
   "display_name": "Python 3",
   "language": "python",
   "name": "python3"
  },
  "language_info": {
   "codemirror_mode": {
    "name": "ipython",
    "version": 3
   },
   "file_extension": ".py",
   "mimetype": "text/x-python",
   "name": "python",
   "nbconvert_exporter": "python",
   "pygments_lexer": "ipython3",
   "version": "3.7.5"
  }
 },
 "nbformat": 4,
 "nbformat_minor": 2
}
