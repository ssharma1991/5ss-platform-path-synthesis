{
 "cells": [
  {
   "cell_type": "markdown",
   "metadata": {},
   "source": [
    "# Perform Hierarchical Clustering (K-Mean)(also try Dendrogram)"
   ]
  },
  {
   "cell_type": "code",
   "execution_count": null,
   "metadata": {},
   "outputs": [],
   "source": [
    "from keras.models import load_model\n",
    "\n",
    "# Load Autoencoder model with Z=3\n",
    "filename='AE_Z3_val_loss_0.0478.h5'\n",
    "path=os.path.join('models',filename)\n",
    "AE_Z3 = load_model(path)\n",
    "E_Z3 = Model(AE_Z3.input, AE_Z3.layers[6].output)\n",
    "E_Z3.summary()"
   ]
  },
  {
   "cell_type": "code",
   "execution_count": null,
   "metadata": {},
   "outputs": [],
   "source": [
    "z_param_train = E_Z3.predict(x_train)\n",
    "z_param_test = E_Z3.predict(x_test)\n",
    "#print(z_param)\n",
    "\n",
    "fig = plt.figure(figsize=1.8/2*plt.figaspect(1/2))\n",
    "ax = fig.add_subplot(1, 2, 1, projection='3d')\n",
    "ax.scatter(z_param_train[:,0],z_param_train[:,1],z_param_train[:,2])\n",
    "ax = fig.add_subplot(1, 2, 2, projection='3d')\n",
    "ax.scatter(z_param_test[:,0],z_param_test[:,1],z_param_test[:,2])\n",
    "\n",
    "plt.tight_layout()\n",
    "plt.show()"
   ]
  },
  {
   "cell_type": "code",
   "execution_count": null,
   "metadata": {},
   "outputs": [],
   "source": [
    "from sklearn.cluster import KMeans"
   ]
  },
  {
   "cell_type": "code",
   "execution_count": null,
   "metadata": {},
   "outputs": [],
   "source": [
    "#Find optimal K-value using the elbow method\n",
    "Sum_of_squared_distances = []\n",
    "K = range(1,15)\n",
    "for k in K:\n",
    "    km = KMeans(n_clusters=k)\n",
    "    km = km.fit(z_param)\n",
    "    Sum_of_squared_distances.append(km.inertia_)\n",
    "\n",
    "fig = plt.figure(figsize=1.7*plt.figaspect(1))\n",
    "ax = fig.add_subplot(1, 1, 1)\n",
    "plt.plot(K, Sum_of_squared_distances, 'bx-')\n",
    "plt.xlabel('k')\n",
    "plt.ylabel('Sum_of_squared_distances')\n",
    "plt.title('Elbow Method For Optimal k')\n",
    "plt.show()"
   ]
  },
  {
   "cell_type": "code",
   "execution_count": null,
   "metadata": {},
   "outputs": [],
   "source": [
    "optK=3\n",
    "kmeans = KMeans(n_clusters=optK)\n",
    "kmeans.fit(z_param)\n",
    "y_kmeans = kmeans.predict(z_param)\n",
    "\n",
    "centers = kmeans.cluster_centers_\n",
    "fig = plt.figure(figsize=1.7*plt.figaspect(1))\n",
    "ax = fig.add_subplot(1, 1, 1, projection='3d')\n",
    "ax.scatter(z_param[:, 0], z_param[:, 1], z_param[:, 2], c=y_kmeans, s=50, cmap='viridis')\n",
    "ax.scatter(centers[:, 0], centers[:, 1], centers[:, 2], c='black', s=1000, alpha=0.5);\n",
    "\n",
    "plt.tight_layout()"
   ]
  },
  {
   "cell_type": "markdown",
   "metadata": {},
   "source": [
    "# Find similar paths using KNN on Cluster Centers"
   ]
  },
  {
   "cell_type": "code",
   "execution_count": null,
   "metadata": {},
   "outputs": [],
   "source": []
  }
 ],
 "metadata": {
  "kernelspec": {
   "display_name": "Python 3",
   "language": "python",
   "name": "python3"
  },
  "language_info": {
   "codemirror_mode": {
    "name": "ipython",
    "version": 3
   },
   "file_extension": ".py",
   "mimetype": "text/x-python",
   "name": "python",
   "nbconvert_exporter": "python",
   "pygments_lexer": "ipython3",
   "version": "3.7.5"
  }
 },
 "nbformat": 4,
 "nbformat_minor": 2
}
